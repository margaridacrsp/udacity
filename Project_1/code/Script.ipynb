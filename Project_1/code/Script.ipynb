{
 "cells": [
  {
   "cell_type": "code",
   "execution_count": 1,
   "metadata": {},
   "outputs": [],
   "source": [
    "import pandas as pd\n",
    "import numpy as np\n",
    "import datetime\n",
    "import matplotlib.pyplot as plt\n",
    "import matplotlib.dates as mdates"
   ]
  },
  {
   "cell_type": "code",
   "execution_count": 2,
   "metadata": {},
   "outputs": [
    {
     "name": "stdout",
     "output_type": "stream",
     "text": [
      "The listings shape is (3818, 92) and the calendar shape is (1393570, 4).\n"
     ]
    }
   ],
   "source": [
    "#load the listings data\n",
    "listings = pd.read_csv('listings.csv')\n",
    "#load the calendar availability and prices data\n",
    "calendar = pd.read_csv('calendar.csv')\n",
    "print(\"The listings shape is {} and the calendar shape is {}.\".format(listings.shape,calendar.shape))"
   ]
  },
  {
   "cell_type": "code",
   "execution_count": 3,
   "metadata": {},
   "outputs": [
    {
     "data": {
      "text/html": [
       "<div>\n",
       "<style scoped>\n",
       "    .dataframe tbody tr th:only-of-type {\n",
       "        vertical-align: middle;\n",
       "    }\n",
       "\n",
       "    .dataframe tbody tr th {\n",
       "        vertical-align: top;\n",
       "    }\n",
       "\n",
       "    .dataframe thead th {\n",
       "        text-align: right;\n",
       "    }\n",
       "</style>\n",
       "<table border=\"1\" class=\"dataframe\">\n",
       "  <thead>\n",
       "    <tr style=\"text-align: right;\">\n",
       "      <th></th>\n",
       "      <th>id</th>\n",
       "      <th>perc</th>\n",
       "    </tr>\n",
       "    <tr>\n",
       "      <th>property_type</th>\n",
       "      <th></th>\n",
       "      <th></th>\n",
       "    </tr>\n",
       "  </thead>\n",
       "  <tbody>\n",
       "    <tr>\n",
       "      <th>House</th>\n",
       "      <td>1733</td>\n",
       "      <td>0.454021</td>\n",
       "    </tr>\n",
       "    <tr>\n",
       "      <th>Apartment</th>\n",
       "      <td>1708</td>\n",
       "      <td>0.447472</td>\n",
       "    </tr>\n",
       "    <tr>\n",
       "      <th>Townhouse</th>\n",
       "      <td>118</td>\n",
       "      <td>0.030914</td>\n",
       "    </tr>\n",
       "    <tr>\n",
       "      <th>Condominium</th>\n",
       "      <td>91</td>\n",
       "      <td>0.023841</td>\n",
       "    </tr>\n",
       "    <tr>\n",
       "      <th>Loft</th>\n",
       "      <td>40</td>\n",
       "      <td>0.010479</td>\n",
       "    </tr>\n",
       "    <tr>\n",
       "      <th>Bed &amp; Breakfast</th>\n",
       "      <td>37</td>\n",
       "      <td>0.009693</td>\n",
       "    </tr>\n",
       "    <tr>\n",
       "      <th>Other</th>\n",
       "      <td>22</td>\n",
       "      <td>0.005764</td>\n",
       "    </tr>\n",
       "    <tr>\n",
       "      <th>Cabin</th>\n",
       "      <td>21</td>\n",
       "      <td>0.005502</td>\n",
       "    </tr>\n",
       "    <tr>\n",
       "      <th>Bungalow</th>\n",
       "      <td>13</td>\n",
       "      <td>0.003406</td>\n",
       "    </tr>\n",
       "    <tr>\n",
       "      <th>Camper/RV</th>\n",
       "      <td>13</td>\n",
       "      <td>0.003406</td>\n",
       "    </tr>\n",
       "    <tr>\n",
       "      <th>Boat</th>\n",
       "      <td>8</td>\n",
       "      <td>0.002096</td>\n",
       "    </tr>\n",
       "    <tr>\n",
       "      <th>Tent</th>\n",
       "      <td>5</td>\n",
       "      <td>0.001310</td>\n",
       "    </tr>\n",
       "    <tr>\n",
       "      <th>Treehouse</th>\n",
       "      <td>3</td>\n",
       "      <td>0.000786</td>\n",
       "    </tr>\n",
       "    <tr>\n",
       "      <th>Chalet</th>\n",
       "      <td>2</td>\n",
       "      <td>0.000524</td>\n",
       "    </tr>\n",
       "    <tr>\n",
       "      <th>Dorm</th>\n",
       "      <td>2</td>\n",
       "      <td>0.000524</td>\n",
       "    </tr>\n",
       "    <tr>\n",
       "      <th>Yurt</th>\n",
       "      <td>1</td>\n",
       "      <td>0.000262</td>\n",
       "    </tr>\n",
       "  </tbody>\n",
       "</table>\n",
       "</div>"
      ],
      "text/plain": [
       "                   id      perc\n",
       "property_type                  \n",
       "House            1733  0.454021\n",
       "Apartment        1708  0.447472\n",
       "Townhouse         118  0.030914\n",
       "Condominium        91  0.023841\n",
       "Loft               40  0.010479\n",
       "Bed & Breakfast    37  0.009693\n",
       "Other              22  0.005764\n",
       "Cabin              21  0.005502\n",
       "Bungalow           13  0.003406\n",
       "Camper/RV          13  0.003406\n",
       "Boat                8  0.002096\n",
       "Tent                5  0.001310\n",
       "Treehouse           3  0.000786\n",
       "Chalet              2  0.000524\n",
       "Dorm                2  0.000524\n",
       "Yurt                1  0.000262"
      ]
     },
     "execution_count": 3,
     "metadata": {},
     "output_type": "execute_result"
    }
   ],
   "source": [
    "#Question 1: Does Seattle has the type and number of accommodations you need?\n",
    "#First part of the question, let's take a look at the type of 'houses' listed in Seattle\n",
    "#For this question we just need the id and property_type columns from the listing data\n",
    "lst_prop_type = listings[['id','property_type']].copy()\n",
    "#Grouping by the data to get the counts of listings for each property_type\n",
    "lst_prop_type_count = lst_prop_type.groupby(['property_type']).count()\n",
    "lst_prop_type_count.sort_values(by=['id'],ascending=False,inplace=True)\n",
    "#Transforming the counts in percentage\n",
    "lst_prop_type_count['perc'] = lst_prop_type_count['id'] / np.sum(lst_prop_type_count['id'])\n",
    "lst_prop_type_count"
   ]
  },
  {
   "cell_type": "code",
   "execution_count": 4,
   "metadata": {},
   "outputs": [
    {
     "data": {
      "image/png": "[encoded data removed]",
      "text/plain": [
       "<Figure size 432x288 with 1 Axes>"
      ]
     },
     "metadata": {
      "needs_background": "light"
     },
     "output_type": "display_data"
    }
   ],
   "source": [
    "#Now looking to the number of accommodations\n",
    "#For this question we just need the id and accommodates columns from the listing data\n",
    "lst_accommodates = listings[['id','accommodates']].copy()\n",
    "#Grouping by the data to get the counts of listings for each property_type\n",
    "lst_accommodates_count = lst_accommodates.groupby(['accommodates']).count()\n",
    "#Transforming the counts in percentage\n",
    "lst_accommodates_count['perc'] = lst_accommodates_count['id'] / np.sum(lst_accommodates_count['id'])\n",
    "lst_accommodates_count\n",
    "\n",
    "#Create a bar plot to display the results\n",
    "plot1 = lst_accommodates_count['perc'].plot(kind='bar',width=0.8,color='lightblue')\n",
    "#Remove the top and right frame\n",
    "plot1.spines['top'].set_visible(False)\n",
    "plot1.spines['right'].set_visible(False)\n",
    "#Rotate the x axis and insert label\n",
    "plt.xticks(rotation=0)\n",
    "plt.xlabel('Number of Accommodations')\n",
    "#Insert grid in y axis\n",
    "plt.grid(which='major', axis='y', linestyle='solid')\n",
    "plt.show()"
   ]
  },
  {
   "cell_type": "code",
   "execution_count": 5,
   "metadata": {},
   "outputs": [
    {
     "name": "stdout",
     "output_type": "stream",
     "text": [
      "Calendar table: \n",
      "    listing_id       date available   price  week\n",
      "0      241032 2016-01-04         t  $85.00     1\n",
      "1      241032 2016-01-05         t  $85.00     1\n",
      "2      241032 2016-01-06         f     NaN     1\n",
      "3      241032 2016-01-07         f     NaN     1\n",
      "4      241032 2016-01-08         f     NaN     1\n",
      "Calendar with average price from listings table: \n",
      "    listing_id       date available   price  week      id average_price\n",
      "0      241032 2016-01-04         t  $85.00     1  241032        $85.00\n",
      "1      241032 2016-01-05         t  $85.00     1  241032        $85.00\n",
      "2      241032 2016-01-06         f     NaN     1  241032        $85.00\n",
      "3      241032 2016-01-07         f     NaN     1  241032        $85.00\n",
      "4      241032 2016-01-08         f     NaN     1  241032        $85.00\n",
      "Calendar with complete prices table: \n",
      "        id       date  week available  price\n",
      "0  241032 2016-01-04     1         t   85.0\n",
      "1  241032 2016-01-05     1         t   85.0\n",
      "2  241032 2016-01-06     1         f   85.0\n",
      "3  241032 2016-01-07     1         f   85.0\n",
      "4  241032 2016-01-08     1         f   85.0\n"
     ]
    }
   ],
   "source": [
    "#Question 2: When is the best time of year to visit Seattle? What is the average price per day?\n",
    "#For this question we need to aggregate the prices for weeks and see the price distribution throughout the year\n",
    "\n",
    "#First step is converting the column 'date' of calendar dataFrame, and calculate the week\n",
    "calendar_price = calendar.copy()\n",
    "calendar_price['date'] = pd.to_datetime(calendar_price['date'], format='%Y-%m-%d')\n",
    "calendar_price['week'] = calendar_price.apply(lambda x : x['date'].isocalendar()[1],axis=1)\n",
    "print(\"Calendar table: \\n {}\".format(calendar_price.head()))\n",
    "\n",
    "#To doesn't delete the rows with NaN price, we will fill them with their average value from the listings data\n",
    "calendar_price = calendar_price.merge(listings[['id','price']], left_on='listing_id', right_on='id', how='left')\n",
    "calendar_price = calendar_price.rename(columns={'price_x':'price','price_y':'average_price'})\n",
    "print(\"Calendar with average price from listings table: \\n {}\".format(calendar_price.head()))\n",
    "#Filling the NaN prices with the average price\n",
    "calendar_price['price'].fillna(calendar_price['average_price'], inplace=True)\n",
    "calendar_price = calendar_price[['id','date','week','available','price']]\n",
    "#Convert the 'price' column from string to number, so we can do the aggregation\n",
    "calendar_price = calendar_price.copy()\n",
    "calendar_price['price'] = calendar_price['price'].replace('[\\$,]', '', regex=True).astype(float)\n",
    "print(\"Calendar with complete prices table: \\n {}\".format(calendar_price.head()))"
   ]
  },
  {
   "cell_type": "code",
   "execution_count": 6,
   "metadata": {},
   "outputs": [
    {
     "data": {
      "image/png": "[encoded data removed]",
      "text/plain": [
       "<Figure size 432x288 with 1 Axes>"
      ]
     },
     "metadata": {
      "needs_background": "light"
     },
     "output_type": "display_data"
    }
   ],
   "source": [
    "#Now that is all set, we just need to do the aggregation by week\n",
    "mean_price_week = calendar_price.groupby(['week'])['price'].mean()\n",
    "\n",
    "#Create a plot to better observe the mean prices obtained\n",
    "plot2 = mean_price_week.plot(color='orange')\n",
    "plot2.set_xlim(1, 52)\n",
    "#Remove the top and right frame\n",
    "plot2.spines['top'].set_visible(False)\n",
    "plot2.spines['right'].set_visible(False)\n",
    "#Defining the axis labels\n",
    "plt.xlabel('Week')\n",
    "plt.ylabel('Average Price')\n",
    "plt.show()"
   ]
  },
  {
   "cell_type": "code",
   "execution_count": 7,
   "metadata": {},
   "outputs": [
    {
     "data": {
      "image/png": "[encoded data removed]",
      "text/plain": [
       "<Figure size 432x288 with 1 Axes>"
      ]
     },
     "metadata": {
      "needs_background": "light"
     },
     "output_type": "display_data"
    }
   ],
   "source": [
    "#Checking the availabity of listings\n",
    "#First is necessary to count the listings available per day \n",
    "availability_day = calendar_price[calendar_price['available'] == 't'].groupby(['week','date'])['available'].count()\n",
    "#Second we do a average of available listings per week and divide that by the total count of listings in Seattle\n",
    "availability_week = availability_day.groupby(['week']).mean() / listings['id'].count()\n",
    "availability_week\n",
    "\n",
    "#Create a plot to better observe the mean prices obtained\n",
    "plot2 = availability_week.plot(color='lightblue')\n",
    "plot2.set_xlim(1, 52)\n",
    "#Remove the top and right frame\n",
    "plot2.spines['top'].set_visible(False)\n",
    "plot2.spines['right'].set_visible(False)\n",
    "#Defining the axis labels\n",
    "plt.xlabel('Week')\n",
    "plt.ylabel('Average Price')\n",
    "plt.show()"
   ]
  },
  {
   "cell_type": "code",
   "execution_count": 8,
   "metadata": {},
   "outputs": [
    {
     "data": {
      "text/html": [
       "<div>\n",
       "<style scoped>\n",
       "    .dataframe tbody tr th:only-of-type {\n",
       "        vertical-align: middle;\n",
       "    }\n",
       "\n",
       "    .dataframe tbody tr th {\n",
       "        vertical-align: top;\n",
       "    }\n",
       "\n",
       "    .dataframe thead th {\n",
       "        text-align: right;\n",
       "    }\n",
       "</style>\n",
       "<table border=\"1\" class=\"dataframe\">\n",
       "  <thead>\n",
       "    <tr style=\"text-align: right;\">\n",
       "      <th></th>\n",
       "      <th>price</th>\n",
       "      <th>review_scores_rating</th>\n",
       "    </tr>\n",
       "  </thead>\n",
       "  <tbody>\n",
       "    <tr>\n",
       "      <th>count</th>\n",
       "      <td>87.000000</td>\n",
       "      <td>87.000000</td>\n",
       "    </tr>\n",
       "    <tr>\n",
       "      <th>mean</th>\n",
       "      <td>122.370887</td>\n",
       "      <td>94.598621</td>\n",
       "    </tr>\n",
       "    <tr>\n",
       "      <th>std</th>\n",
       "      <td>35.986624</td>\n",
       "      <td>1.986258</td>\n",
       "    </tr>\n",
       "    <tr>\n",
       "      <th>min</th>\n",
       "      <td>62.933333</td>\n",
       "      <td>88.000000</td>\n",
       "    </tr>\n",
       "    <tr>\n",
       "      <th>25%</th>\n",
       "      <td>93.484594</td>\n",
       "      <td>93.807187</td>\n",
       "    </tr>\n",
       "    <tr>\n",
       "      <th>50%</th>\n",
       "      <td>117.250000</td>\n",
       "      <td>95.133333</td>\n",
       "    </tr>\n",
       "    <tr>\n",
       "      <th>75%</th>\n",
       "      <td>138.430884</td>\n",
       "      <td>95.849414</td>\n",
       "    </tr>\n",
       "    <tr>\n",
       "      <th>max</th>\n",
       "      <td>242.571429</td>\n",
       "      <td>98.000000</td>\n",
       "    </tr>\n",
       "  </tbody>\n",
       "</table>\n",
       "</div>"
      ],
      "text/plain": [
       "            price  review_scores_rating\n",
       "count   87.000000             87.000000\n",
       "mean   122.370887             94.598621\n",
       "std     35.986624              1.986258\n",
       "min     62.933333             88.000000\n",
       "25%     93.484594             93.807187\n",
       "50%    117.250000             95.133333\n",
       "75%    138.430884             95.849414\n",
       "max    242.571429             98.000000"
      ]
     },
     "execution_count": 8,
     "metadata": {},
     "output_type": "execute_result"
    }
   ],
   "source": [
    "#Question 3: What are the most expensive zones in Seattle? Does the higher priced locations have best scores?\n",
    "\n",
    "#For this question we just need to look to the listings, neighbourhoods, prices and reviews\n",
    "lst_location_reviews = listings[['id','price','neighbourhood_cleansed','review_scores_rating']].copy()\n",
    "#In this case we can drop the NaN values\n",
    "lst_location_reviews = lst_location_reviews.dropna()\n",
    "#Convert the 'price' columns from string to number\n",
    "lst_location_reviews = lst_location_reviews.copy()\n",
    "lst_location_reviews['price'] = lst_location_reviews['price'].replace('[\\$,]', '', regex=True).astype(float)\n",
    "\n",
    "#Aggregate the neighbourhoods by prices and rates\n",
    "lst_location_reviews_mean = lst_location_reviews.groupby(['neighbourhood_cleansed'])[['price','review_scores_rating']].mean()\n",
    "lst_location_reviews_mean.describe()"
   ]
  },
  {
   "cell_type": "code",
   "execution_count": 9,
   "metadata": {},
   "outputs": [],
   "source": [
    "#Now I will divide the data in 3 category from the mean and standard deviation\n",
    "def categorize(df,column_name):\n",
    "    mean_value = df[column_name].mean()\n",
    "    std_value = df[column_name].std()\n",
    "    new_column_name = column_name + '_category'\n",
    "    for i,value in df[column_name].items():\n",
    "        if value < mean_value -  std_value :\n",
    "            category = 1\n",
    "        elif mean_value -  std_value <= value < mean_value + std_value:\n",
    "            category = 2\n",
    "        else:\n",
    "            category = 3\n",
    "        df.loc[i,new_column_name] = category\n",
    "        \n",
    "\n",
    "#We want to categorize the 2 columns\n",
    "categorize(lst_location_reviews_mean,'price')\n",
    "categorize(lst_location_reviews_mean,'review_scores_rating')\n",
    "\n",
    "#Save the results into a csv to analysi in QGis\n",
    "lst_location_reviews_mean.to_csv(r'neighbourhood_price_reviews_average.csv')"
   ]
  },
  {
   "cell_type": "code",
   "execution_count": null,
   "metadata": {},
   "outputs": [],
   "source": []
  }
 ],
 "metadata": {
  "kernelspec": {
   "display_name": "Python 3",
   "language": "python",
   "name": "python3"
  },
  "language_info": {
   "codemirror_mode": {
    "name": "ipython",
    "version": 3
   },
   "file_extension": ".py",
   "mimetype": "text/x-python",
   "name": "python",
   "nbconvert_exporter": "python",
   "pygments_lexer": "ipython3",
   "version": "3.8.5"
  }
 },
 "nbformat": 4,
 "nbformat_minor": 4
}
